{
 "cells": [
  {
   "cell_type": "markdown",
   "metadata": {},
   "source": [
    "# Wine Quality Classification\n",
    "\n",
    "In this assignment, we will use logistic regression to judge the quality of wines. The dataset is taken from UCI machine learning repository. For description of the dataset, see [here](https://archive.ics.uci.edu/ml/datasets/wine+quality).\n",
    "\n",
    "Attributes of the dataset are listed as following:\n",
    "1. fixed acidity \n",
    "2. volatile acidity \n",
    "3. citric acid \n",
    "4. residual sugar \n",
    "5. chlorides \n",
    "6. free sulfur dioxide \n",
    "7. total sulfur dioxide \n",
    "8. density \n",
    "9. pH \n",
    "10. sulphates \n",
    "11. alcohol \n",
    "\n",
    "Output variable (based on sensory data): \n",
    "12. quality (score between 0 and 10)\n",
    "\n",
    "##### In the first part, we call the sklearn library for logistic regression. We have filled out most of the code for this part. In the second part, you will design your own Logistic Regression from scratch, Yayy! This will mean implementing the various building blocks we learnt in class. Also, keep in mind that this part will serve as a stepping stone later when we design our own neural network.\n",
    "\n",
    "\n",
    "The following code loads the dataset, and the dataset looks like the following:"
   ]
  },
  {
   "cell_type": "code",
   "execution_count": 26,
   "metadata": {},
   "outputs": [
    {
     "data": {
      "text/html": [
       "<div>\n",
       "<style scoped>\n",
       "    .dataframe tbody tr th:only-of-type {\n",
       "        vertical-align: middle;\n",
       "    }\n",
       "\n",
       "    .dataframe tbody tr th {\n",
       "        vertical-align: top;\n",
       "    }\n",
       "\n",
       "    .dataframe thead th {\n",
       "        text-align: right;\n",
       "    }\n",
       "</style>\n",
       "<table border=\"1\" class=\"dataframe\">\n",
       "  <thead>\n",
       "    <tr style=\"text-align: right;\">\n",
       "      <th></th>\n",
       "      <th>fixed acidity</th>\n",
       "      <th>volatile acidity</th>\n",
       "      <th>citric acid</th>\n",
       "      <th>residual sugar</th>\n",
       "      <th>chlorides</th>\n",
       "      <th>free sulfur dioxide</th>\n",
       "      <th>total sulfur dioxide</th>\n",
       "      <th>density</th>\n",
       "      <th>pH</th>\n",
       "      <th>sulphates</th>\n",
       "      <th>alcohol</th>\n",
       "      <th>quality</th>\n",
       "    </tr>\n",
       "  </thead>\n",
       "  <tbody>\n",
       "    <tr>\n",
       "      <th>1518</th>\n",
       "      <td>7.4</td>\n",
       "      <td>0.470</td>\n",
       "      <td>0.46</td>\n",
       "      <td>2.2</td>\n",
       "      <td>0.114</td>\n",
       "      <td>7.0</td>\n",
       "      <td>20.0</td>\n",
       "      <td>0.99647</td>\n",
       "      <td>3.32</td>\n",
       "      <td>0.63</td>\n",
       "      <td>10.5</td>\n",
       "      <td>5</td>\n",
       "    </tr>\n",
       "    <tr>\n",
       "      <th>1246</th>\n",
       "      <td>7.4</td>\n",
       "      <td>0.740</td>\n",
       "      <td>0.07</td>\n",
       "      <td>1.7</td>\n",
       "      <td>0.086</td>\n",
       "      <td>15.0</td>\n",
       "      <td>48.0</td>\n",
       "      <td>0.99502</td>\n",
       "      <td>3.12</td>\n",
       "      <td>0.48</td>\n",
       "      <td>10.0</td>\n",
       "      <td>5</td>\n",
       "    </tr>\n",
       "    <tr>\n",
       "      <th>544</th>\n",
       "      <td>14.3</td>\n",
       "      <td>0.310</td>\n",
       "      <td>0.74</td>\n",
       "      <td>1.8</td>\n",
       "      <td>0.075</td>\n",
       "      <td>6.0</td>\n",
       "      <td>15.0</td>\n",
       "      <td>1.00080</td>\n",
       "      <td>2.86</td>\n",
       "      <td>0.79</td>\n",
       "      <td>8.4</td>\n",
       "      <td>6</td>\n",
       "    </tr>\n",
       "    <tr>\n",
       "      <th>1343</th>\n",
       "      <td>7.5</td>\n",
       "      <td>0.510</td>\n",
       "      <td>0.02</td>\n",
       "      <td>1.7</td>\n",
       "      <td>0.084</td>\n",
       "      <td>13.0</td>\n",
       "      <td>31.0</td>\n",
       "      <td>0.99538</td>\n",
       "      <td>3.36</td>\n",
       "      <td>0.54</td>\n",
       "      <td>10.5</td>\n",
       "      <td>6</td>\n",
       "    </tr>\n",
       "    <tr>\n",
       "      <th>428</th>\n",
       "      <td>9.1</td>\n",
       "      <td>0.520</td>\n",
       "      <td>0.33</td>\n",
       "      <td>1.3</td>\n",
       "      <td>0.070</td>\n",
       "      <td>9.0</td>\n",
       "      <td>30.0</td>\n",
       "      <td>0.99780</td>\n",
       "      <td>3.24</td>\n",
       "      <td>0.60</td>\n",
       "      <td>9.3</td>\n",
       "      <td>5</td>\n",
       "    </tr>\n",
       "    <tr>\n",
       "      <th>1190</th>\n",
       "      <td>9.1</td>\n",
       "      <td>0.400</td>\n",
       "      <td>0.57</td>\n",
       "      <td>4.6</td>\n",
       "      <td>0.080</td>\n",
       "      <td>6.0</td>\n",
       "      <td>20.0</td>\n",
       "      <td>0.99652</td>\n",
       "      <td>3.28</td>\n",
       "      <td>0.57</td>\n",
       "      <td>12.5</td>\n",
       "      <td>6</td>\n",
       "    </tr>\n",
       "    <tr>\n",
       "      <th>1056</th>\n",
       "      <td>8.9</td>\n",
       "      <td>0.480</td>\n",
       "      <td>0.53</td>\n",
       "      <td>4.0</td>\n",
       "      <td>0.101</td>\n",
       "      <td>3.0</td>\n",
       "      <td>10.0</td>\n",
       "      <td>0.99586</td>\n",
       "      <td>3.21</td>\n",
       "      <td>0.59</td>\n",
       "      <td>12.1</td>\n",
       "      <td>7</td>\n",
       "    </tr>\n",
       "    <tr>\n",
       "      <th>361</th>\n",
       "      <td>8.6</td>\n",
       "      <td>0.450</td>\n",
       "      <td>0.31</td>\n",
       "      <td>2.6</td>\n",
       "      <td>0.086</td>\n",
       "      <td>21.0</td>\n",
       "      <td>50.0</td>\n",
       "      <td>0.99820</td>\n",
       "      <td>3.37</td>\n",
       "      <td>0.91</td>\n",
       "      <td>9.9</td>\n",
       "      <td>6</td>\n",
       "    </tr>\n",
       "    <tr>\n",
       "      <th>367</th>\n",
       "      <td>10.4</td>\n",
       "      <td>0.575</td>\n",
       "      <td>0.61</td>\n",
       "      <td>2.6</td>\n",
       "      <td>0.076</td>\n",
       "      <td>11.0</td>\n",
       "      <td>24.0</td>\n",
       "      <td>1.00000</td>\n",
       "      <td>3.16</td>\n",
       "      <td>0.69</td>\n",
       "      <td>9.0</td>\n",
       "      <td>5</td>\n",
       "    </tr>\n",
       "    <tr>\n",
       "      <th>1401</th>\n",
       "      <td>7.9</td>\n",
       "      <td>0.690</td>\n",
       "      <td>0.21</td>\n",
       "      <td>2.1</td>\n",
       "      <td>0.080</td>\n",
       "      <td>33.0</td>\n",
       "      <td>141.0</td>\n",
       "      <td>0.99620</td>\n",
       "      <td>3.25</td>\n",
       "      <td>0.51</td>\n",
       "      <td>9.9</td>\n",
       "      <td>5</td>\n",
       "    </tr>\n",
       "  </tbody>\n",
       "</table>\n",
       "</div>"
      ],
      "text/plain": [
       "      fixed acidity  volatile acidity  citric acid  residual sugar  chlorides  \\\n",
       "1518            7.4             0.470         0.46             2.2      0.114   \n",
       "1246            7.4             0.740         0.07             1.7      0.086   \n",
       "544            14.3             0.310         0.74             1.8      0.075   \n",
       "1343            7.5             0.510         0.02             1.7      0.084   \n",
       "428             9.1             0.520         0.33             1.3      0.070   \n",
       "1190            9.1             0.400         0.57             4.6      0.080   \n",
       "1056            8.9             0.480         0.53             4.0      0.101   \n",
       "361             8.6             0.450         0.31             2.6      0.086   \n",
       "367            10.4             0.575         0.61             2.6      0.076   \n",
       "1401            7.9             0.690         0.21             2.1      0.080   \n",
       "\n",
       "      free sulfur dioxide  total sulfur dioxide  density    pH  sulphates  \\\n",
       "1518                  7.0                  20.0  0.99647  3.32       0.63   \n",
       "1246                 15.0                  48.0  0.99502  3.12       0.48   \n",
       "544                   6.0                  15.0  1.00080  2.86       0.79   \n",
       "1343                 13.0                  31.0  0.99538  3.36       0.54   \n",
       "428                   9.0                  30.0  0.99780  3.24       0.60   \n",
       "1190                  6.0                  20.0  0.99652  3.28       0.57   \n",
       "1056                  3.0                  10.0  0.99586  3.21       0.59   \n",
       "361                  21.0                  50.0  0.99820  3.37       0.91   \n",
       "367                  11.0                  24.0  1.00000  3.16       0.69   \n",
       "1401                 33.0                 141.0  0.99620  3.25       0.51   \n",
       "\n",
       "      alcohol  quality  \n",
       "1518     10.5        5  \n",
       "1246     10.0        5  \n",
       "544       8.4        6  \n",
       "1343     10.5        6  \n",
       "428       9.3        5  \n",
       "1190     12.5        6  \n",
       "1056     12.1        7  \n",
       "361       9.9        6  \n",
       "367       9.0        5  \n",
       "1401      9.9        5  "
      ]
     },
     "execution_count": 26,
     "metadata": {},
     "output_type": "execute_result"
    }
   ],
   "source": [
    "import numpy as np\n",
    "import matplotlib.pyplot as plt\n",
    "import pandas as pd\n",
    "from sklearn.utils import shuffle\n",
    "#train = np.genfromtxt('wine_training1.txt', delimiter=',')\n",
    "red = pd.read_csv('winequality-red.csv')\n",
    "white = pd.read_csv('winequality-white.csv')\n",
    "red = shuffle(red, random_state = 10)\n",
    "white = shuffle(white, random_state = 10)\n",
    "red.head(10)\n"
   ]
  },
  {
   "cell_type": "markdown",
   "metadata": {},
   "source": [
    "## Data Splitting\n",
    "To convert this into a binary classification task, we split the quality into a binary feature *good* or *bad* depending on whether the quality is larger than 6 or not.\n",
    "\n",
    "Next for both red and white wines, we randomly pick $70\\%$ of the data to be our training set and the remaining for testing ."
   ]
  },
  {
   "cell_type": "code",
   "execution_count": 27,
   "metadata": {
    "scrolled": false
   },
   "outputs": [
    {
     "data": {
      "text/plain": [
       "4731     True\n",
       "937     False\n",
       "1217    False\n",
       "3296    False\n",
       "4524     True\n",
       "3640     True\n",
       "785      True\n",
       "393      True\n",
       "562      True\n",
       "1285     True\n",
       "Name: quality, dtype: bool"
      ]
     },
     "execution_count": 27,
     "metadata": {},
     "output_type": "execute_result"
    }
   ],
   "source": [
    "from sklearn.model_selection import train_test_split\n",
    "X_red = red.iloc[:, :-1]       #features\n",
    "y_red = red.iloc[:, -1] >= 6   #quality >= 6\n",
    "\n",
    "X_train_red, X_test_red, y_train_red, y_test_red = train_test_split(X_red, y_red, test_size=0.3, random_state = 0)\n",
    "                                   #7:3\n",
    "X_white = white.iloc[:, :-1]\n",
    "y_white = white.iloc[:, -1] >= 6\n",
    "X_train_white, X_test_white, y_train_white, y_test_white = train_test_split(X_white, y_white, test_size=0.3, random_state = 0)\n",
    "\n",
    "#y_red.head(10)\n",
    "y_white.head(10)"
   ]
  },
  {
   "cell_type": "markdown",
   "metadata": {},
   "source": [
    "## Problem 1 Logistic Regression for Red Wine and White Wine\n",
    "\n",
    "The code below trains Logistic Regression classifiers for red wine and white wine separately and tests them on the corresponding dataset. "
   ]
  },
  {
   "cell_type": "code",
   "execution_count": 6,
   "metadata": {},
   "outputs": [
    {
     "name": "stdout",
     "output_type": "stream",
     "text": [
      "The testing error for red wine is: 0.275.\n"
     ]
    }
   ],
   "source": [
    "# Trained and tested on red wine\n",
    "from sklearn.linear_model import LogisticRegression\n",
    "from sklearn.metrics import hamming_loss\n",
    "clf_red = LogisticRegression(solver = 'sag', max_iter=10000)\n",
    "clf_red.fit(X_train_red, y_train_red)\n",
    "y_pred_red = clf_red.predict(X_test_red)\n",
    "error_red = hamming_loss(y_test_red, y_pred_red)\n",
    "print('The testing error for red wine is: ' + str(error_red) + '.')"
   ]
  },
  {
   "cell_type": "code",
   "execution_count": 7,
   "metadata": {},
   "outputs": [
    {
     "name": "stdout",
     "output_type": "stream",
     "text": [
      "The testing error for white wine is: 0.2612244897959184.\n"
     ]
    }
   ],
   "source": [
    "# Trained and tested on white wine\n",
    "clf_white = LogisticRegression(solver = 'sag', max_iter=10000)\n",
    "clf_white.fit(X_train_white, y_train_white)\n",
    "y_pred_white = clf_white.predict(X_test_white)\n",
    "error_white = hamming_loss(y_test_white, y_pred_white)\n",
    "print('The testing error for white wine is: ' + str(error_white) + '.')"
   ]
  },
  {
   "cell_type": "markdown",
   "metadata": {},
   "source": [
    "### 1.1\n",
    "What happens if you apply them to different domains? Test the model trained using 'X_trn_white, y_trn_white' on 'X_test_red', and vice versa. Print out the errors and compare with previous results."
   ]
  },
  {
   "cell_type": "code",
   "execution_count": 11,
   "metadata": {},
   "outputs": [
    {
     "name": "stdout",
     "output_type": "stream",
     "text": [
      "The testing error for red wine when using clf_white is: 0.35625.\n",
      "The testing error for white wine when using clf_red is: 0.3401360544217687.\n"
     ]
    }
   ],
   "source": [
    "#===== Your code here ======\n",
    "y_pred_red = clf_white.predict(X_test_red)\n",
    "error_red = hamming_loss(y_test_red, y_pred_red)\n",
    "print('The testing error for red wine when using clf_white is: ' + str(error_red) + '.')\n",
    "\n",
    "#===== Your code here ======\n",
    "\n",
    "y_pred_white = clf_red.predict(X_test_white)\n",
    "error_white = hamming_loss(y_test_white, y_pred_white)\n",
    "print('The testing error for white wine when using clf_red is: ' + str(error_white) + '.')\n"
   ]
  },
  {
   "cell_type": "markdown",
   "metadata": {},
   "source": [
    " ### 1.2 Do the test errors increase or decrease? Explain why this happens.\n",
    " ### Your answer here\n",
    " \n",
    " **The test errors increased, because the test dataset must keep the similiar distribution with train dataset. If the test dataset is very different form train dataset, the classifier which be trained will predict wrong reslut.**"
   ]
  },
  {
   "cell_type": "markdown",
   "metadata": {},
   "source": [
    "# Problem 2 The effect of regularization\n",
    "In this section we will investigate the effect of regularization. The code below runs logistic regression in sklearn, using $\\ell_2$ regularization with regularizer value $\\lambda$ in the set $\\{0.00001 \\times 4^i: i = 0,1,2,..., 15\\}$. (The regularization parameter 'C' in scikit-learn is the inverse of $\\lambda$ we see in class). Training and test errors are plotted with respect to the regularizer value $\\lambda$. "
   ]
  },
  {
   "cell_type": "code",
   "execution_count": 12,
   "metadata": {},
   "outputs": [
    {
     "data": {
      "text/plain": [
       "<matplotlib.legend.Legend at 0x7fac92f7a580>"
      ]
     },
     "execution_count": 12,
     "metadata": {},
     "output_type": "execute_result"
    },
    {
     "data": {
      "image/png": "[encoded data removed]",
      "text/plain": [
       "<Figure size 432x288 with 1 Axes>"
      ]
     },
     "metadata": {
      "needs_background": "light"
     },
     "output_type": "display_data"
    }
   ],
   "source": [
    "N = np.array(range(0,15))\n",
    "lamb = 0.00001*(4**N)\n",
    "error_trn = np.zeros(15)\n",
    "error_tst = np.zeros(15)\n",
    "for i in N:\n",
    "    c = lamb[i]\n",
    "    clf = LogisticRegression( C = 1/c, solver = 'sag', max_iter= 10000)\n",
    "    clf.fit(X_train_red, y_train_red)\n",
    "    y_pred = clf.predict(X_test_red)\n",
    "    error_tst[i] = hamming_loss(y_test_red, y_pred)\n",
    "    y_pred_trn = clf.predict(X_train_red)\n",
    "    error_trn[i] = hamming_loss(y_train_red, y_pred_trn)\n",
    "plt.figure(1)\n",
    "plt.semilogx(lamb, error_tst, label = 'Test')\n",
    "plt.semilogx(lamb, error_trn, label = 'Train')\n",
    "plt.legend()"
   ]
  },
  {
   "cell_type": "markdown",
   "metadata": {},
   "source": [
    "### Explain the effect of regularization on training and test errors. Are they effected differently?\n",
    "### Your answer here\n",
    "\n",
    "**At the beginning, the model is in the overfitting state of the dataset. As the lambda increases, the training and test errors increase. When the lambda increases to 100, when the degree of overfitting of the model decreases, the test errors begin to decrease.**"
   ]
  },
  {
   "cell_type": "markdown",
   "metadata": {},
   "source": [
    "# Problem 3 Implementing Logistic Regression from Scratch\n",
    "In this section, we will implement a logistic regression classifier from scratch and train it using gradient descent. You are **NOT** allowed to use any pre-built logistic regression classifiers or gradient solvers from any machine learning libraries. \n",
    "\n",
    "Before we start implementing, it helps to know that when working with data in high dimensional space, **vectorization** is a technique that may significantly help decrease the running time of your code. Simply put, compared to using for-loops, it is usually preferred to directly work with matrices and vectors as a whole and compute expressions using built-in matrix/vector operations when no significant overhead in computation is introduced. \n",
    "\n",
    "Here is a simple example. Suppose we have two vectors $a\\in\\mathbb{R}^n$ and $x\\in\\mathbb{R}^n$, and we want to compute the following expression:\n",
    "$$\n",
    "c=\\sum_{i=1}^na_ix_i\n",
    "$$\n",
    "One could naively implement this using a for loop. However, note that $c=a\\cdot x$. If we use the dot product/matrix multiplication function in numpy, the running time can be significantly reduced, as you will observe in the following code."
   ]
  },
  {
   "cell_type": "code",
   "execution_count": 13,
   "metadata": {},
   "outputs": [
    {
     "name": "stdout",
     "output_type": "stream",
     "text": [
      "Vectorized: 0.009302377700805664 seconds\n",
      "For loop: 0.3338158130645752 seconds\n"
     ]
    }
   ],
   "source": [
    "import time\n",
    "N = 1000000\n",
    "a = np.random.normal(0, 1, N)\n",
    "x = np.random.normal(0, 1, N)\n",
    "\n",
    "# Vectorized code\n",
    "start_time = time.time()\n",
    "c = np.dot(a, x)\n",
    "print(\"Vectorized: %s seconds\" % (time.time() - start_time))\n",
    "\n",
    "# Dummy code\n",
    "start_time = time.time()\n",
    "c = 0\n",
    "for i in range(N):\n",
    "    c += a[i]*x[i]\n",
    "print(\"For loop: %s seconds\" % (time.time() - start_time))"
   ]
  },
  {
   "cell_type": "markdown",
   "metadata": {},
   "source": [
    "For this reason when we work with a dataset, it is preferred to process it as an entire batch (or several batches) using vectorization.\n",
    "Throughout this this problem, we define the following expressions:\n",
    "\n",
    "$n$ - the dataset size \n",
    "\n",
    "$d$ - feature dimension.\n",
    "\n",
    "$X\\in\\mathbb{R}^{n\\times d}$ - the dataset written in an $n\\times d$ matrix where the $i$-th row is the feature vector $x_i\\in\\mathbb{R}^d$ of data $i$.\n",
    "\n",
    "$Y\\in\\{0, 1\\}^n$ - the labels of all data.\n",
    "\n",
    "$\\theta\\in \\mathbb{R}^d$ - the parameters of the logistic regression model to be learned.\n",
    "\n",
    "First we will implement the sigmoid function. The input $z$ is an $n$-d vector, and the output $y$ is also an $n$-d vector such that each coordnate $y_i=Sigmoid(z_i)$."
   ]
  },
  {
   "cell_type": "code",
   "execution_count": 14,
   "metadata": {},
   "outputs": [],
   "source": [
    "def sigmoid(z):\n",
    "    # z and y: n-dimensional vector\n",
    "    n = z.shape\n",
    "    y = np.zeros(n)\n",
    "    \n",
    "    #==== Your code here =====\n",
    "    \n",
    "    y = 1 / (1 + np.exp(-z))\n",
    "    \n",
    "    #==== Your code here =====\n",
    "    \n",
    "    return y\n",
    "    "
   ]
  },
  {
   "cell_type": "markdown",
   "metadata": {},
   "source": [
    "Then we will implement the logistic regression model. Recall that for each sample $x_i\\in\\mathbb{R}^d$, logistic regression outputs a \"probability estimate\":\n",
    "$$\n",
    "y_i = Sigmoid(\\theta \\cdot x_i)\\in(0, 1)\n",
    "$$\n",
    "\n",
    "Given a parameter $\\theta$ and a dataset $X$, your code should output $y\\in\\mathbb{R}^d$ which contains the probability estimates for the entire dataset."
   ]
  },
  {
   "cell_type": "code",
   "execution_count": 18,
   "metadata": {},
   "outputs": [],
   "source": [
    "def LR_forward(X, Theta):\n",
    "    # This function computes the predicted probability p(y|X,Theta) given X and Theta.\n",
    "    # X: n*d\n",
    "    # Theta: d-dimensional vector\n",
    "    # y: n-dimensional vector\n",
    "    n = X.shape[0]\n",
    "    y = np.zeros(n)\n",
    "    #==== Your code here =====\n",
    "    \n",
    "    y = sigmoid(np.dot(X, Theta))\n",
    "    \n",
    "    #==== Your code here =====  \n",
    "\n",
    "    return y"
   ]
  },
  {
   "cell_type": "markdown",
   "metadata": {},
   "source": [
    "Then we should compute the gradients. In class we formulated logistic regression as an ML estimator which maximizes the likelihood under some probabilistic assumptions. In practice, it is conventional to implement it as a minimization problem instead. In fact, logistic regression can be equivalently formulated as minimizing the \"cross entropy\" loss:\n",
    "$$\n",
    "CE(Y_i, y_i)= -Y_i\\log(y_i) - (1-Y_i)\\log(1-y_i),\n",
    "$$\n",
    "where $Y_i\\in\\{0, 1\\}$ is the true label and $y_i\\in(0, 1)$ is the predicted probability.\n",
    "\n",
    "Recall that $y_i=Sigmoid(\\theta \\cdot x_i)$ is a function of $\\theta$. The optimization objective is to minimize over $\\theta\\in\\mathbb{R}^d$:\n",
    "$$\n",
    "L(X, Y; \\theta)=\\frac{1}{n}\\sum_{i=1}^nCE(Y_i, y_i).\n",
    "$$\n",
    "\n",
    "Note that we divided the sum of cross entropy losses by $n$. Without averaging, the optimization problem does not change. However, averaging would ensure that the maginitude of gradients is scalable for datasets of different sizes, and hence is preferred. \n",
    "\n",
    "Now in the $LR\\_backward$ function, compute the gradient of $L$ with respect to $\\theta$."
   ]
  },
  {
   "cell_type": "code",
   "execution_count": 23,
   "metadata": {},
   "outputs": [],
   "source": [
    "def LR_backward(Theta, X, Y, y):\n",
    "    # Y: true label\n",
    "    # y: predicted probability\n",
    "    # grads: gradient of the loss function, d*1\n",
    "    n = X.shape[0]\n",
    "    d = Theta.shape[0]\n",
    "    grad = np.zeros(d)\n",
    "    #==== Your code here =====\n",
    "    tmp =Y  -  y\n",
    "    grad = np.dot(tmp, X) / n  \n",
    "    #==== Your code here =====\n",
    "    return grad"
   ]
  },
  {
   "cell_type": "markdown",
   "metadata": {},
   "source": [
    "Now we implement gradient descent. To minimize the loss function $L$, we adjust the parameter $\\theta$ by moving a tiny step towards the direction of $-\\nabla_{\\theta} L$:\n",
    "$$\n",
    "\\theta\\leftarrow \\theta-\\eta\\nabla_{\\theta} L\n",
    "$$\n",
    "where $\\eta>0$ is the learning rate. Now complete this (presumably) one-line code for gradient descent."
   ]
  },
  {
   "cell_type": "code",
   "execution_count": 24,
   "metadata": {},
   "outputs": [],
   "source": [
    "def update_parameters(Theta, grads, learning_rate):\n",
    "    \n",
    "    #===== Your code here ======\n",
    "    \n",
    "    Theta = Theta + learning_rate * grads\n",
    "\n",
    "    \n",
    "    #===== Your code here\n",
    "    \n",
    "    return Theta"
   ]
  },
  {
   "cell_type": "markdown",
   "metadata": {},
   "source": [
    "You are almost complete! Now let's test it on the red wine dataset. Before running your code, complete the part in which you implement a complete cycle of parameter update: \n",
    "\n",
    "First pass the dataset and parameters through your model to obtain a prediction.\n",
    "\n",
    "Then, compute gradient with respect to parameters. \n",
    "\n",
    "Finally update the parameters using gradient descent.\n",
    "\n",
    "When you test (or simply play around with) your code , you may change max_iter, initialition, and learning rate. However, the hyper-parameters we provide should work if you follow closely with the previous steps. If everything works out correctly, your test error should be close to that obtained by the built-in classifier in sklearn."
   ]
  },
  {
   "cell_type": "code",
   "execution_count": 25,
   "metadata": {},
   "outputs": [
    {
     "data": {
      "text/plain": [
       "<matplotlib.legend.Legend at 0x7fac90527880>"
      ]
     },
     "execution_count": 25,
     "metadata": {},
     "output_type": "execute_result"
    },
    {
     "data": {
      "image/png": "[encoded data removed]",
      "text/plain": [
       "<Figure size 432x288 with 1 Axes>"
      ]
     },
     "metadata": {
      "needs_background": "light"
     },
     "output_type": "display_data"
    }
   ],
   "source": [
    "from sklearn import preprocessing\n",
    "# Preprocessing: scaling and shifting the training data so that all dimensions have mean 0 and std 1\n",
    "scaler = preprocessing.StandardScaler().fit(X_train_red)\n",
    "X_train_scaled = scaler.transform(X_train_red)\n",
    "X_test_scaled = scaler.transform(X_test_red) # Apply the same transformation to test data\n",
    "n_train = X_train_scaled.shape[0]\n",
    "n_test = X_test_scaled.shape[0]\n",
    "\n",
    "# Introduce the bias term by appending features with 1\n",
    "X_train_scaled = np.concatenate((X_train_scaled, np.ones((n_train, 1) )), axis=1)\n",
    "X_test_scaled = np.concatenate((X_test_scaled, np.ones((n_test, 1) )), axis=1)\n",
    "\n",
    "# Start training\n",
    "(n, d) = X_train_scaled.shape\n",
    "from sklearn.metrics import accuracy_score\n",
    "max_iter = 5000\n",
    "Theta = np.random.normal(0, 0.5, d) # initialization of parameters\n",
    "learning_rate = 0.1\n",
    "\n",
    "err_trn = np.zeros(max_iter//100)\n",
    "err_tst = np.zeros(max_iter//100)\n",
    "\n",
    "for i in range(max_iter):\n",
    "    \n",
    "    #===== Your code here =======\n",
    "    pred = LR_forward(X_train_scaled, Theta)\n",
    "    grad = LR_backward(Theta, X_train_scaled, y_train_red, pred)\n",
    "    Theta = update_parameters(Theta, grad, learning_rate)\n",
    "    \n",
    "    #===== Your code here =======\n",
    "    \n",
    "    if i%100==0:\n",
    "    \n",
    "        pred_tst = LR_forward(X_test_scaled, Theta) > 0.5\n",
    "        pred_trn = LR_forward(X_train_scaled, Theta) > 0.5\n",
    "\n",
    "        cost_tst = accuracy_score(pred_tst, y_test_red)\n",
    "        cost_trn = accuracy_score(pred_trn, y_train_red)\n",
    "    \n",
    "        err_tst[i//100] = 1 - cost_tst\n",
    "        err_trn[i//100] = 1 - cost_trn\n",
    "    \n",
    "plt.figure(2)\n",
    "plt.plot(err_tst,label = 'Test')\n",
    "plt.plot(err_trn, label = 'Train')\n",
    "plt.legend()"
   ]
  },
  {
   "cell_type": "code",
   "execution_count": null,
   "metadata": {},
   "outputs": [],
   "source": []
  }
 ],
 "metadata": {
  "kernelspec": {
   "display_name": "Python 3",
   "language": "python",
   "name": "python3"
  },
  "language_info": {
   "codemirror_mode": {
    "name": "ipython",
    "version": 3
   },
   "file_extension": ".py",
   "mimetype": "text/x-python",
   "name": "python",
   "nbconvert_exporter": "python",
   "pygments_lexer": "ipython3",
   "version": "3.7.4"
  }
 },
 "nbformat": 4,
 "nbformat_minor": 2
}
